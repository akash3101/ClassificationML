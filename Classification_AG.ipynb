{
 "cells": [
  {
   "cell_type": "markdown",
   "id": "a9968c90-bee7-45c0-9a3e-5871204244dc",
   "metadata": {},
   "source": [
    "# Model Building for classification problems\n",
    "\n",
    "***Akash Gupta***\n",
    "\n",
    "## The process of computation\n",
    "\n",
    "The **Carseats** dataset has been used for the purpose of demonstration here. The quantity we are trying to predict are sales of car seats (high or low), by using predictors such as - income, age, education level, urban/rural household and price of the component, among various other variables.\n",
    "\n",
    "- First we compute the **information value** of all the predictors and make three different datasets based on different thresholds for the IV. \n",
    "\n",
    "- **Dummy variable encoding** is carried out for the categorical predictors and the numerical columns are **standardized** prior to subjecting the final dataframes to model fitting. \n",
    "\n",
    "- At first, the **logistic regressions** are fit on the three datasets with different number of features. We evaluate the model using 3 cases - AIC criterion, statistical t-test on the mean of cross validated accuracy scores and model variance as evidenced by the distribution of cross validated scores. \n",
    "\n",
    "- We also utilize the **grid search cv** functionality of Python to tune the hyperparameters of all the models before finalizing the model and fitting to the test dataset. \n",
    "\n",
    "- A **random forest** classifier is also fitted on the data for a more extensive comparison. \n",
    "\n",
    "## Results\n",
    "\n",
    "- As per **AIC** values, it is found that the dataset with all the predictors is the best fit, as opposed to the datasets that had their features pruned out due to IV thresholds. \n",
    "\n",
    "- Even as per the **t-test** it seems that the statistical average accuracy of model3 is the best. However a caveat is that the Logit function in python is fit with a **regularization** hyperparameter that might be itself performing some level of variable selection. \n",
    "\n",
    "- The random forest classifier has markedly different results - even though the cross validated mean accuracy is higher for model3 - the statistical **t-test** of mean accuracy scores suggests that all three models are equal. So we might be tempted to choose the one with fewer features to avoid overfitting. "
   ]
  },
  {
   "cell_type": "code",
   "execution_count": 661,
   "id": "f9c29d0b-6767-48d8-bb63-9e9ac3d353b2",
   "metadata": {},
   "outputs": [],
   "source": [
    "import pandas as pd\n",
    "import numpy as np\n",
    "import matplotlib.pyplot as plt\n",
    "import seaborn as sns\n",
    "from sklearn.linear_model import LogisticRegression\n",
    "from sklearn.model_selection import cross_val_score\n",
    "from sklearn.preprocessing import OneHotEncoder\n",
    "from sklearn import preprocessing\n",
    "from sklearn.model_selection import GridSearchCV\n",
    "import scipy.stats as stats\n",
    "import statsmodels.api as sm\n",
    "from sklearn.metrics import log_loss\n",
    "from sklearn.metrics import accuracy_score\n",
    "from sklearn.model_selection import train_test_split\n",
    "from sklearn.ensemble import RandomForestClassifier\n",
    "sns.set_style('whitegrid')"
   ]
  },
  {
   "cell_type": "code",
   "execution_count": 514,
   "id": "a330d0f5-f581-43cb-ba5c-b70a93e8cac7",
   "metadata": {},
   "outputs": [],
   "source": [
    "df = pd.read_csv(\"/Users/Akashgupta/Desktop/data_files/cars.csv\")\n",
    "df['Sales'] = pd.qcut(df['Sales'], q=2, labels=[0, 1])"
   ]
  },
  {
   "cell_type": "code",
   "execution_count": 515,
   "id": "fcea8ae1-d907-4454-8db8-85e762fd52b1",
   "metadata": {},
   "outputs": [
    {
     "data": {
      "text/html": [
       "<div>\n",
       "<style scoped>\n",
       "    .dataframe tbody tr th:only-of-type {\n",
       "        vertical-align: middle;\n",
       "    }\n",
       "\n",
       "    .dataframe tbody tr th {\n",
       "        vertical-align: top;\n",
       "    }\n",
       "\n",
       "    .dataframe thead th {\n",
       "        text-align: right;\n",
       "    }\n",
       "</style>\n",
       "<table border=\"1\" class=\"dataframe\">\n",
       "  <thead>\n",
       "    <tr style=\"text-align: right;\">\n",
       "      <th></th>\n",
       "      <th>Sales</th>\n",
       "      <th>CompPrice</th>\n",
       "      <th>Income</th>\n",
       "      <th>Advertising</th>\n",
       "      <th>Population</th>\n",
       "      <th>Price</th>\n",
       "      <th>ShelveLoc</th>\n",
       "      <th>Age</th>\n",
       "      <th>Education</th>\n",
       "      <th>Urban</th>\n",
       "    </tr>\n",
       "  </thead>\n",
       "  <tbody>\n",
       "    <tr>\n",
       "      <th>0</th>\n",
       "      <td>1</td>\n",
       "      <td>138</td>\n",
       "      <td>73</td>\n",
       "      <td>hi</td>\n",
       "      <td>276</td>\n",
       "      <td>120</td>\n",
       "      <td>Bad</td>\n",
       "      <td>42</td>\n",
       "      <td>high</td>\n",
       "      <td>Yes</td>\n",
       "    </tr>\n",
       "    <tr>\n",
       "      <th>1</th>\n",
       "      <td>1</td>\n",
       "      <td>111</td>\n",
       "      <td>48</td>\n",
       "      <td>hi</td>\n",
       "      <td>260</td>\n",
       "      <td>83</td>\n",
       "      <td>Good</td>\n",
       "      <td>65</td>\n",
       "      <td>low</td>\n",
       "      <td>Yes</td>\n",
       "    </tr>\n",
       "    <tr>\n",
       "      <th>2</th>\n",
       "      <td>1</td>\n",
       "      <td>113</td>\n",
       "      <td>35</td>\n",
       "      <td>hi</td>\n",
       "      <td>269</td>\n",
       "      <td>80</td>\n",
       "      <td>Medium</td>\n",
       "      <td>59</td>\n",
       "      <td>low</td>\n",
       "      <td>Yes</td>\n",
       "    </tr>\n",
       "    <tr>\n",
       "      <th>3</th>\n",
       "      <td>0</td>\n",
       "      <td>117</td>\n",
       "      <td>100</td>\n",
       "      <td>low</td>\n",
       "      <td>466</td>\n",
       "      <td>97</td>\n",
       "      <td>Medium</td>\n",
       "      <td>55</td>\n",
       "      <td>medium</td>\n",
       "      <td>Yes</td>\n",
       "    </tr>\n",
       "    <tr>\n",
       "      <th>4</th>\n",
       "      <td>0</td>\n",
       "      <td>141</td>\n",
       "      <td>64</td>\n",
       "      <td>low</td>\n",
       "      <td>340</td>\n",
       "      <td>128</td>\n",
       "      <td>Bad</td>\n",
       "      <td>38</td>\n",
       "      <td>medium</td>\n",
       "      <td>Yes</td>\n",
       "    </tr>\n",
       "  </tbody>\n",
       "</table>\n",
       "</div>"
      ],
      "text/plain": [
       "  Sales  CompPrice  Income Advertising  Population  Price ShelveLoc  Age  \\\n",
       "0     1        138      73          hi         276    120       Bad   42   \n",
       "1     1        111      48          hi         260     83      Good   65   \n",
       "2     1        113      35          hi         269     80    Medium   59   \n",
       "3     0        117     100         low         466     97    Medium   55   \n",
       "4     0        141      64         low         340    128       Bad   38   \n",
       "\n",
       "  Education Urban  \n",
       "0      high   Yes  \n",
       "1       low   Yes  \n",
       "2       low   Yes  \n",
       "3    medium   Yes  \n",
       "4    medium   Yes  "
      ]
     },
     "execution_count": 515,
     "metadata": {},
     "output_type": "execute_result"
    }
   ],
   "source": [
    "### VIEWING THE DATASET\n",
    "\n",
    "df['Education'] = pd.qcut(df['Education'], q=3, labels = ['low', 'medium', 'high'])\n",
    "df['Advertising'] = pd.qcut(df['Advertising'], q=2, labels = ['low', 'hi'])\n",
    "df.pop('US')\n",
    "df.head()"
   ]
  },
  {
   "cell_type": "code",
   "execution_count": 516,
   "id": "a3142ffb-a7f4-4165-944c-6326d654a389",
   "metadata": {},
   "outputs": [],
   "source": [
    "### A CUSTOM BUILT FUNCTION THAT COMPUTES INFORMATION VALUE OF ALL PREDICTORS\n",
    "\n",
    "def iv(data, target, predictor):\n",
    "    \n",
    "    if predictor in list(set(list(data.columns)) - set(list(data.select_dtypes(include=['int', 'float']).columns))):\n",
    "        d = pd.DataFrame([df[target], df[predictor]]).T\n",
    "    elif predictor in list(df.select_dtypes(include=['int', 'float']).columns):\n",
    "        bc = pd.qcut(np.log10(df[predictor]+3), q=6, labels=list(range(6)))\n",
    "        d = pd.DataFrame([df[target], bc]).T\n",
    "        \n",
    "    bads = d[d[target]==0][target].count()\n",
    "    goods = d[d[target]==1][target].count()\n",
    "    \n",
    "    g = pd.Series(d[d[target]==1][predictor].value_counts(), name='yes')\n",
    "    g = g/goods\n",
    "    \n",
    "    b = pd.Series(d[d[target]==0][predictor].value_counts(), name='no')\n",
    "    b = b/bads\n",
    "    dd = pd.DataFrame([g, b]).T\n",
    "    \n",
    "    IV = (dd['yes'] - dd['no'])*np.log10(dd['yes']/dd['no'])\n",
    "    return IV.sum()"
   ]
  },
  {
   "cell_type": "code",
   "execution_count": 517,
   "id": "bd3cd770-8ef3-41fe-ac98-0dc270c94bc5",
   "metadata": {},
   "outputs": [
    {
     "name": "stdout",
     "output_type": "stream",
     "text": [
      "Advertising  -->  0.09772967097418558\n",
      "Price  -->  0.35355502686045603\n",
      "ShelveLoc  -->  0.3373246686942379\n",
      "Age  -->  0.07621846277164837\n"
     ]
    }
   ],
   "source": [
    "### LOOP THAT PASSES PREDICTORS TO THE IV FUNCTION AND OUTPUTS THE VALUES\n",
    "\n",
    "for pred in list(df.columns):\n",
    "    if pred != 'Sales':\n",
    "        if iv(df, 'Sales', pred) > 0.06:\n",
    "            print(pred, ' --> ', iv(df, 'Sales', pred))"
   ]
  },
  {
   "cell_type": "code",
   "execution_count": 519,
   "id": "80eb0449-1706-42f5-bced-79d5f15797e6",
   "metadata": {},
   "outputs": [],
   "source": [
    "### THREE DATASETS ARE INITIALIZED BASED ON DIFFERENT IV THRESHOLDS\n",
    "\n",
    "data1 = df.loc[:, ['Price', 'ShelveLoc', 'Sales']]\n",
    "data2 = df.loc[:, ['Price', 'ShelveLoc', 'Age', 'Advertising', 'Sales']]\n",
    "data3 = df.loc[:, :]"
   ]
  },
  {
   "cell_type": "code",
   "execution_count": 229,
   "id": "7f2da7de-c96f-4944-8bc5-8f2c013eb366",
   "metadata": {},
   "outputs": [],
   "source": [
    "data1.to_csv('/Users/Akashgupta/Desktop/data_files/data1.csv')\n",
    "data2.to_csv('/Users/Akashgupta/Desktop/data_files/data2.csv')\n",
    "data3.to_csv('/Users/Akashgupta/Desktop/data_files/data3.csv')"
   ]
  },
  {
   "cell_type": "code",
   "execution_count": 520,
   "id": "108dcb75-6e22-4eff-949b-186c726cc504",
   "metadata": {},
   "outputs": [],
   "source": [
    "### THE SALES COLUMN IS INITIALIZED TO CATEGORICAL TYPE - RESPONSE COLUMN\n",
    "\n",
    "data1['Sales'] = pd.Categorical(data1['Sales'])\n",
    "data2['Sales'] = pd.Categorical(data2['Sales'])\n",
    "data3['Sales'] = pd.Categorical(data3['Sales'])"
   ]
  },
  {
   "cell_type": "code",
   "execution_count": 533,
   "id": "af761441-faff-4514-a1e1-27c6b3868a2d",
   "metadata": {},
   "outputs": [],
   "source": [
    "### THIS FUNCTION IDENTIFIES ALL CATEGORICAL COLUMNS AND COMPUTES AND JOINS THEIR DUMMY ENCODED MATRICES\n",
    "### ADDITIONALLY IT ALSO STANDARDIZES THE NUMERICAL VARIABLES AND COMPILES A FINAL DATASET\n",
    "\n",
    "def final_frame(xx, target):\n",
    "    \n",
    "    X = xx.copy()\n",
    "    cat_cols = list(set(list(X.columns)) - set(list(X.select_dtypes(include=['int', 'float']).columns)))\n",
    "    q_cols = list(X.select_dtypes(include=['int', 'float']).columns)\n",
    "    cat_cols.remove(target)\n",
    "    initialized = cat_cols[0]\n",
    "    cat_cols.remove(initialized)\n",
    "    frame = pd.get_dummies(X[initialized], drop_first=True)\n",
    "    \n",
    "    Y = X[target]\n",
    "    X.pop(target)\n",
    "\n",
    "    for column in list(X.columns):\n",
    "        if column in cat_cols:\n",
    "            frame = frame.join(pd.get_dummies(X[column], drop_first=True))\n",
    "        else:\n",
    "            pass\n",
    "        \n",
    "    Qcols = []\n",
    "    for col in q_cols:\n",
    "        X[col] = (X[col] - X[col].mean())/X[col].std()\n",
    "    \n",
    "    frame2 = X[q_cols]\n",
    "    finalframe = pd.concat([frame2, frame], axis=1)\n",
    "    \n",
    "    return finalframe, Y"
   ]
  },
  {
   "cell_type": "code",
   "execution_count": 534,
   "id": "c30dcc98-59bf-47be-b1cf-42ce5444dab4",
   "metadata": {},
   "outputs": [],
   "source": [
    "### THE FUNCTION IS CALLED TO COMPUTE THE FINAL DATASETS AFTER FEATURE PROCESSING\n",
    "\n",
    "x_data3, y3 = final_frame(data3, 'Sales')\n",
    "x_data2, y2 = final_frame(data2, 'Sales')\n",
    "x_data1, y1 = final_frame(data1, 'Sales')"
   ]
  },
  {
   "cell_type": "code",
   "execution_count": 539,
   "id": "0459d658-2778-41a5-b8d4-6e54ebdb6474",
   "metadata": {},
   "outputs": [],
   "source": [
    "### LOGISTIC REGRESSION MODELS ARE FIT OVER ALL THREE DATASETS\n",
    "\n",
    "model1 = LogisticRegression(random_state=0, solver='liblinear')\n",
    "res1 = model1.fit(x_data1, y1)\n",
    "\n",
    "model2 = LogisticRegression(random_state=0, solver='liblinear')\n",
    "res2 = model2.fit(x_data2, y2)\n",
    "\n",
    "model3 = LogisticRegression(random_state=0, solver='liblinear')\n",
    "res3 = model3.fit(x_data3, y3)"
   ]
  },
  {
   "cell_type": "code",
   "execution_count": 545,
   "id": "63bf3f79-1322-4fd1-aba0-1924d3e629a4",
   "metadata": {},
   "outputs": [],
   "source": [
    "### THESE VARIABLES ENCODE THE PREDICTED VALUES BY THE 3 MODELS\n",
    "\n",
    "yhat1 = model1.predict(x_data1)\n",
    "yhat2 = model2.predict(x_data2)\n",
    "yhat3 = model3.predict(x_data3)"
   ]
  },
  {
   "cell_type": "code",
   "execution_count": 574,
   "id": "0e618920-e2d2-4fc9-b995-a8552129c221",
   "metadata": {},
   "outputs": [
    {
     "name": "stdout",
     "output_type": "stream",
     "text": [
      "AIC1:  395.3506626476684\n",
      "AIC2:  339.8107946278777\n",
      "AIC3:  247.12847794268163\n"
     ]
    }
   ],
   "source": [
    "### AKAIKE INFORMATION CRITERION IS CALCULATED FOR THE MODELS\n",
    "\n",
    "aic1 = 2*log_loss(y1, model1.predict_proba(x_data1), normalize=False) + (2*len(list(x_data1.columns)))\n",
    "aic2 = 2*log_loss(y2, model2.predict_proba(x_data2), normalize=False) + (2*len(list(x_data2.columns)))\n",
    "aic3 = 2*log_loss(y3, model3.predict_proba(x_data3), normalize=False) + (2*len(list(x_data3.columns)))\n",
    "print(\"AIC1: \", aic1)\n",
    "print(\"AIC2: \", aic2)\n",
    "print(\"AIC3: \", aic3)"
   ]
  },
  {
   "cell_type": "code",
   "execution_count": 595,
   "id": "73cb7d82-d730-43c6-9ea5-9ffbeff41abc",
   "metadata": {},
   "outputs": [
    {
     "data": {
      "text/plain": [
       "GridSearchCV(cv=10, estimator=LogisticRegression(solver='liblinear'),\n",
       "             param_grid={'C': [1e-05, 0.01, 1.0, 10.0, 10000000000.0],\n",
       "                         'penalty': ['l1', 'l2']})"
      ]
     },
     "execution_count": 595,
     "metadata": {},
     "output_type": "execute_result"
    }
   ],
   "source": [
    "### MODEL 1 - GRID SEARCH\n",
    "\n",
    "param_grid = {'C': [1e-5, 1e-2, 1e0, 1e1, 1e10], \n",
    "              'penalty': ['l1', 'l2']}\n",
    "grid1 = GridSearchCV(LogisticRegression(solver='liblinear'), cv=10, param_grid=param_grid)\n",
    "grid1.fit(x_data1, y1)"
   ]
  },
  {
   "cell_type": "code",
   "execution_count": 596,
   "id": "109da9c5-5fea-474a-8a5d-2020a3155930",
   "metadata": {},
   "outputs": [
    {
     "data": {
      "text/plain": [
       "LogisticRegression(penalty='l1', solver='liblinear')"
      ]
     },
     "execution_count": 596,
     "metadata": {},
     "output_type": "execute_result"
    }
   ],
   "source": [
    "grid1.best_estimator_"
   ]
  },
  {
   "cell_type": "code",
   "execution_count": 597,
   "id": "5a34e821-caa4-40c4-b3a2-d1435afc19e1",
   "metadata": {},
   "outputs": [
    {
     "data": {
      "text/plain": [
       "0.7375"
      ]
     },
     "execution_count": 597,
     "metadata": {},
     "output_type": "execute_result"
    }
   ],
   "source": [
    "grid1.best_score_"
   ]
  },
  {
   "cell_type": "code",
   "execution_count": 598,
   "id": "5d964819-e512-4b51-bab2-39e025b9ad71",
   "metadata": {},
   "outputs": [
    {
     "data": {
      "text/plain": [
       "GridSearchCV(cv=10, estimator=LogisticRegression(solver='liblinear'),\n",
       "             param_grid={'C': [1e-05, 0.01, 1.0, 10.0, 10000000000.0],\n",
       "                         'penalty': ['l1', 'l2']})"
      ]
     },
     "execution_count": 598,
     "metadata": {},
     "output_type": "execute_result"
    }
   ],
   "source": [
    "### MODEL 2 -  GRID SEARCH\n",
    "\n",
    "param_grid = {'C': [1e-5, 1e-2, 1e0, 1e1, 1e10], \n",
    "              'penalty': ['l1', 'l2']}\n",
    "grid2 = GridSearchCV(LogisticRegression(solver='liblinear'), cv=10, param_grid=param_grid)\n",
    "grid2.fit(x_data2, y2)"
   ]
  },
  {
   "cell_type": "code",
   "execution_count": 599,
   "id": "bc3109b3-4ee8-41fb-ace5-49b3214bf7cb",
   "metadata": {},
   "outputs": [
    {
     "data": {
      "text/plain": [
       "LogisticRegression(solver='liblinear')"
      ]
     },
     "execution_count": 599,
     "metadata": {},
     "output_type": "execute_result"
    }
   ],
   "source": [
    "grid2.best_estimator_"
   ]
  },
  {
   "cell_type": "code",
   "execution_count": 600,
   "id": "d56c3f0f-7895-4af0-8331-39cd7b4fc974",
   "metadata": {},
   "outputs": [
    {
     "data": {
      "text/plain": [
       "0.8"
      ]
     },
     "execution_count": 600,
     "metadata": {},
     "output_type": "execute_result"
    }
   ],
   "source": [
    "grid2.best_score_"
   ]
  },
  {
   "cell_type": "code",
   "execution_count": 601,
   "id": "bec4e4df-28d8-4857-94d4-7aa01457881d",
   "metadata": {},
   "outputs": [
    {
     "data": {
      "text/plain": [
       "GridSearchCV(cv=10, estimator=LogisticRegression(solver='liblinear'),\n",
       "             param_grid={'C': [1e-05, 0.01, 1.0, 10.0, 10000000000.0],\n",
       "                         'penalty': ['l1', 'l2']})"
      ]
     },
     "execution_count": 601,
     "metadata": {},
     "output_type": "execute_result"
    }
   ],
   "source": [
    "### MODEL3 - GRID SEARCH\n",
    "\n",
    "param_grid = {'C': [1e-5, 1e-2, 1e0, 1e1, 1e10], \n",
    "              'penalty': ['l1', 'l2']}\n",
    "grid3 = GridSearchCV(LogisticRegression(solver='liblinear'), cv=10, param_grid=param_grid)\n",
    "grid3.fit(x_data3, y3)"
   ]
  },
  {
   "cell_type": "code",
   "execution_count": 602,
   "id": "9d39845f-9a7e-4c85-bc60-a9a79c999701",
   "metadata": {},
   "outputs": [
    {
     "data": {
      "text/plain": [
       "LogisticRegression(C=10.0, penalty='l1', solver='liblinear')"
      ]
     },
     "execution_count": 602,
     "metadata": {},
     "output_type": "execute_result"
    }
   ],
   "source": [
    "grid3.best_estimator_"
   ]
  },
  {
   "cell_type": "code",
   "execution_count": 603,
   "id": "a7a063b4-95b3-49cb-b7d7-8c6d9c966ed5",
   "metadata": {},
   "outputs": [
    {
     "data": {
      "text/plain": [
       "0.8774999999999998"
      ]
     },
     "execution_count": 603,
     "metadata": {},
     "output_type": "execute_result"
    }
   ],
   "source": [
    "grid3.best_score_"
   ]
  },
  {
   "cell_type": "code",
   "execution_count": 634,
   "id": "2f6afb9e-5ada-4af6-9362-6cabdf776284",
   "metadata": {},
   "outputs": [
    {
     "name": "stdout",
     "output_type": "stream",
     "text": [
      "variance1:  0.16740669042783207\n",
      "variance2:  0.132782717248895\n",
      "variance3:  0.11726039399558574\n"
     ]
    }
   ],
   "source": [
    "### MODEL STANDARD DEVIATION\n",
    "\n",
    "modelvar1 = cross_val_score(model1, x_data1, y1, cv=50).std()\n",
    "modelvar2 = cross_val_score(model2, x_data2, y2, cv=50).std()\n",
    "modelvar3 = cross_val_score(model3, x_data3, y3, cv=50).std()\n",
    "print(\"variance1: \", modelvar1)\n",
    "print(\"variance2: \", modelvar2)\n",
    "print(\"variance3: \", modelvar3)"
   ]
  },
  {
   "cell_type": "code",
   "execution_count": 630,
   "id": "f16930c2-8ef9-4e3f-83d6-c361ba13d96c",
   "metadata": {},
   "outputs": [],
   "source": [
    "scores1 = cross_val_score(model1, x_data1, y1, cv=50)\n",
    "scores2 = cross_val_score(model2, x_data2, y2, cv=50)\n",
    "scores3 = cross_val_score(model3, x_data3, y3, cv=50)"
   ]
  },
  {
   "cell_type": "code",
   "execution_count": 683,
   "id": "6a1d4650-e231-4570-8b24-166aa2427266",
   "metadata": {},
   "outputs": [
    {
     "data": {
      "text/plain": [
       "Ttest_indResult(statistic=4.623528928064958, pvalue=5.762119578316761e-06)"
      ]
     },
     "execution_count": 683,
     "metadata": {},
     "output_type": "execute_result"
    }
   ],
   "source": [
    "### T TEST INDICATING THAT MODEL3 IS THE BEST\n",
    "\n",
    "stats.ttest_ind(scores3, scores1, equal_var=True, alternative='greater')"
   ]
  },
  {
   "cell_type": "code",
   "execution_count": 646,
   "id": "f01869ab-741e-463f-a445-e697013083be",
   "metadata": {},
   "outputs": [],
   "source": [
    "### FITTING THE FINAL MODEL ON DATA 3 - BEST\n",
    "\n",
    "x3_train, x3_test, y3_train, y3_test = train_test_split(x_data3, y3, test_size=0.33, random_state=0)"
   ]
  },
  {
   "cell_type": "code",
   "execution_count": 678,
   "id": "2666755a-eaf8-46ed-a360-b6f81bb666b6",
   "metadata": {},
   "outputs": [],
   "source": [
    "logit3 = LogisticRegression(C = 10, penalty = 'l1', solver = 'liblinear')\n",
    "fitted3 = logit3.fit(x3_train, y3_train)"
   ]
  },
  {
   "cell_type": "code",
   "execution_count": 679,
   "id": "10353606-41e3-4d6a-b541-5c11f36a30b0",
   "metadata": {},
   "outputs": [
    {
     "data": {
      "text/plain": [
       "0.8939393939393939"
      ]
     },
     "execution_count": 679,
     "metadata": {},
     "output_type": "execute_result"
    }
   ],
   "source": [
    "logit3.score(x3_test, y3_test)"
   ]
  },
  {
   "cell_type": "code",
   "execution_count": 651,
   "id": "b7a7b6d4-f340-4d23-a1dc-2679587e8d99",
   "metadata": {},
   "outputs": [],
   "source": [
    "### FITTING THE FINAL MODEL ON DATA2\n",
    "\n",
    "x2_train, x2_test, y2_train, y2_test = train_test_split(x_data2, y2, test_size=0.33, random_state=0)"
   ]
  },
  {
   "cell_type": "code",
   "execution_count": 654,
   "id": "1fe1bedd-4592-48dc-992c-b648c902687d",
   "metadata": {},
   "outputs": [],
   "source": [
    "logit2 = LogisticRegression(solver = 'liblinear')\n",
    "fitted2 = logit2.fit(x2_train, y2_train)"
   ]
  },
  {
   "cell_type": "code",
   "execution_count": 655,
   "id": "9a7d7c5b-dba6-4672-81d3-d52b95aa72d3",
   "metadata": {},
   "outputs": [
    {
     "data": {
      "text/plain": [
       "0.8409090909090909"
      ]
     },
     "execution_count": 655,
     "metadata": {},
     "output_type": "execute_result"
    }
   ],
   "source": [
    "logit2.score(x2_test, y2_test)"
   ]
  },
  {
   "cell_type": "code",
   "execution_count": 656,
   "id": "8a35758f-c64f-4ca7-bee0-491b0266a04b",
   "metadata": {},
   "outputs": [],
   "source": [
    "### FITTING THE FINAL MODEL ON DATA1\n",
    "\n",
    "x1_train, x1_test, y1_train, y1_test = train_test_split(x_data1, y1, test_size=0.33, random_state=0)"
   ]
  },
  {
   "cell_type": "code",
   "execution_count": 659,
   "id": "4336c779-91e9-439f-9e20-459ac1195f50",
   "metadata": {},
   "outputs": [],
   "source": [
    "logit1 = LogisticRegression(C = 1, penalty = 'l1', solver = 'liblinear')\n",
    "fitted1 = logit1.fit(x1_train, y1_train)"
   ]
  },
  {
   "cell_type": "code",
   "execution_count": 660,
   "id": "a83950e4-bb9e-43c7-b3ae-4e0b8a381b9b",
   "metadata": {},
   "outputs": [
    {
     "data": {
      "text/plain": [
       "0.7575757575757576"
      ]
     },
     "execution_count": 660,
     "metadata": {},
     "output_type": "execute_result"
    }
   ],
   "source": [
    "logit1.score(x1_test, y1_test)"
   ]
  },
  {
   "cell_type": "code",
   "execution_count": 662,
   "id": "8295feb7-b296-439d-863a-3e20b692125e",
   "metadata": {},
   "outputs": [],
   "source": [
    "######## RANDOM FOREST ###########"
   ]
  },
  {
   "cell_type": "code",
   "execution_count": 663,
   "id": "ed80278d-f616-4124-91e4-e56a37eb2265",
   "metadata": {},
   "outputs": [
    {
     "data": {
      "text/plain": [
       "GridSearchCV(cv=10, estimator=RandomForestClassifier(),\n",
       "             param_grid={'max_depth': [3, 4, 6, 7],\n",
       "                         'min_samples_leaf': [30, 50, 70],\n",
       "                         'n_estimators': [10, 20, 50, 100]})"
      ]
     },
     "execution_count": 663,
     "metadata": {},
     "output_type": "execute_result"
    }
   ],
   "source": [
    "### MODEL 1 - GRID SEARCH\n",
    "\n",
    "param_grid = {'n_estimators': [10, 20, 50, 100],\n",
    "              'max_depth': [3, 4, 6, 7], \n",
    "              'min_samples_leaf': [30, 50, 70]}\n",
    "rfgrid1 = GridSearchCV(RandomForestClassifier(), cv=10, param_grid=param_grid)\n",
    "rfgrid1.fit(x_data1, y1)"
   ]
  },
  {
   "cell_type": "code",
   "execution_count": 664,
   "id": "4f3f81ca-40e5-458d-8e37-cf6f36986f13",
   "metadata": {},
   "outputs": [
    {
     "data": {
      "text/plain": [
       "RandomForestClassifier(max_depth=3, min_samples_leaf=30)"
      ]
     },
     "execution_count": 664,
     "metadata": {},
     "output_type": "execute_result"
    }
   ],
   "source": [
    "rfgrid1.best_estimator_"
   ]
  },
  {
   "cell_type": "code",
   "execution_count": 665,
   "id": "d32ad89c-774a-4aac-ab4a-a7c0b5eed2c2",
   "metadata": {},
   "outputs": [
    {
     "data": {
      "text/plain": [
       "0.7449999999999999"
      ]
     },
     "execution_count": 665,
     "metadata": {},
     "output_type": "execute_result"
    }
   ],
   "source": [
    "rfgrid1.best_score_"
   ]
  },
  {
   "cell_type": "code",
   "execution_count": 667,
   "id": "af954681-e41b-4790-8b1e-51191e2890a3",
   "metadata": {},
   "outputs": [
    {
     "data": {
      "text/plain": [
       "GridSearchCV(cv=10, estimator=RandomForestClassifier(),\n",
       "             param_grid={'max_depth': [3, 4, 6, 7],\n",
       "                         'min_samples_leaf': [30, 50, 70],\n",
       "                         'n_estimators': [10, 20, 50, 100]})"
      ]
     },
     "execution_count": 667,
     "metadata": {},
     "output_type": "execute_result"
    }
   ],
   "source": [
    "### MODEL 2 - GRID SEARCH\n",
    "\n",
    "param_grid = {'n_estimators': [10, 20, 50, 100],\n",
    "              'max_depth': [3, 4, 6, 7], \n",
    "              'min_samples_leaf': [30, 50, 70]}\n",
    "rfgrid2 = GridSearchCV(RandomForestClassifier(), cv=10, param_grid=param_grid)\n",
    "rfgrid2.fit(x_data2, y2)"
   ]
  },
  {
   "cell_type": "code",
   "execution_count": 668,
   "id": "9aef70bc-00e6-4925-922b-e5291f23484d",
   "metadata": {},
   "outputs": [
    {
     "data": {
      "text/plain": [
       "RandomForestClassifier(max_depth=6, min_samples_leaf=30, n_estimators=20)"
      ]
     },
     "execution_count": 668,
     "metadata": {},
     "output_type": "execute_result"
    }
   ],
   "source": [
    "rfgrid2.best_estimator_"
   ]
  },
  {
   "cell_type": "code",
   "execution_count": 669,
   "id": "8d09f821-29b8-4fab-9f5b-56c5663112a5",
   "metadata": {},
   "outputs": [
    {
     "data": {
      "text/plain": [
       "0.78"
      ]
     },
     "execution_count": 669,
     "metadata": {},
     "output_type": "execute_result"
    }
   ],
   "source": [
    "rfgrid2.best_score_"
   ]
  },
  {
   "cell_type": "code",
   "execution_count": 670,
   "id": "c1e3bb22-e26a-4044-aba6-8e09ea105b84",
   "metadata": {},
   "outputs": [
    {
     "data": {
      "text/plain": [
       "GridSearchCV(cv=10, estimator=RandomForestClassifier(),\n",
       "             param_grid={'max_depth': [3, 4, 6, 7],\n",
       "                         'min_samples_leaf': [30, 50, 70],\n",
       "                         'n_estimators': [10, 20, 50, 100]})"
      ]
     },
     "execution_count": 670,
     "metadata": {},
     "output_type": "execute_result"
    }
   ],
   "source": [
    "### MODEL 3 - GRID SEARCH \n",
    "\n",
    "param_grid = {'n_estimators': [10, 20, 50, 100],\n",
    "              'max_depth': [3, 4, 6, 7], \n",
    "              'min_samples_leaf': [30, 50, 70]}\n",
    "rfgrid3 = GridSearchCV(RandomForestClassifier(), cv=10, param_grid=param_grid)\n",
    "rfgrid3.fit(x_data3, y3)"
   ]
  },
  {
   "cell_type": "code",
   "execution_count": 671,
   "id": "f234a65f-9fe2-46e9-b464-340610c19667",
   "metadata": {},
   "outputs": [
    {
     "data": {
      "text/plain": [
       "RandomForestClassifier(max_depth=3, min_samples_leaf=30)"
      ]
     },
     "execution_count": 671,
     "metadata": {},
     "output_type": "execute_result"
    }
   ],
   "source": [
    "rfgrid3.best_estimator_"
   ]
  },
  {
   "cell_type": "code",
   "execution_count": 672,
   "id": "1d0303d2-79dc-4196-aff8-42317bb87970",
   "metadata": {},
   "outputs": [
    {
     "data": {
      "text/plain": [
       "0.7975"
      ]
     },
     "execution_count": 672,
     "metadata": {},
     "output_type": "execute_result"
    }
   ],
   "source": [
    "rfgrid3.best_score_"
   ]
  },
  {
   "cell_type": "code",
   "execution_count": 675,
   "id": "1686c05d-2065-4c84-834d-ea9005dd88a7",
   "metadata": {},
   "outputs": [],
   "source": [
    "rfscores1 = cross_val_score(RandomForestClassifier(max_depth=3, min_samples_leaf=30), x_data1, y1, cv=30)\n",
    "rfscores2 = cross_val_score(RandomForestClassifier(max_depth=6, min_samples_leaf=30,\n",
    "                                                   n_estimators=20), x_data2, y2, cv=30)\n",
    "rfscores3 = cross_val_score(RandomForestClassifier(max_depth=3, min_samples_leaf=30), x_data3, y3, cv=30)"
   ]
  },
  {
   "cell_type": "code",
   "execution_count": 677,
   "id": "8e2cab63-394f-473f-9152-cef63233bc89",
   "metadata": {},
   "outputs": [
    {
     "name": "stdout",
     "output_type": "stream",
     "text": [
      "RF1:  0.1086438797180766\n",
      "RF2:  0.11765086501818947\n",
      "RF3:  0.09753568384493819\n"
     ]
    }
   ],
   "source": [
    "### MODEL STANDARD DEVIATION\n",
    "\n",
    "print('RF1: ', rfscores1.std())\n",
    "print('RF2: ', rfscores2.std())\n",
    "print('RF3: ', rfscores3.std())"
   ]
  },
  {
   "cell_type": "code",
   "execution_count": 682,
   "id": "a4106a60-9988-4091-9c2e-78b2e747a536",
   "metadata": {},
   "outputs": [
    {
     "data": {
      "text/plain": [
       "Ttest_indResult(statistic=2.208991779259109, pvalue=0.01556963832053103)"
      ]
     },
     "execution_count": 682,
     "metadata": {},
     "output_type": "execute_result"
    }
   ],
   "source": [
    "### T TEST RESULTING IN AN INCONCLUSIVE STATE - ALL MODELS ARE EQUALLY GOOD\n",
    "\n",
    "stats.ttest_ind(rfscores3, rfscores1, alternative='greater')"
   ]
  },
  {
   "cell_type": "code",
   "execution_count": null,
   "id": "e99e2a11-2a3b-4039-9463-67aa5308ad84",
   "metadata": {},
   "outputs": [],
   "source": []
  }
 ],
 "metadata": {
  "kernelspec": {
   "display_name": "Python 3",
   "language": "python",
   "name": "python3"
  },
  "language_info": {
   "codemirror_mode": {
    "name": "ipython",
    "version": 3
   },
   "file_extension": ".py",
   "mimetype": "text/x-python",
   "name": "python",
   "nbconvert_exporter": "python",
   "pygments_lexer": "ipython3",
   "version": "3.8.8"
  }
 },
 "nbformat": 4,
 "nbformat_minor": 5
}
